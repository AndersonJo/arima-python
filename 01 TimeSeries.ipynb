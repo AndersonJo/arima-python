{
 "cells": [
  {
   "cell_type": "markdown",
   "metadata": {},
   "source": [
    "# Time Series \n",
    "\n",
    "\n",
    "### Basic\n",
    "\n",
    "시간에 따른 stochastic variables 로 이루어진 데이터를 Time series data라고 하며, <br>\n",
    "정수값 $ t $ 로 인덱스되며 **동일한 시간 격차(equal-spaced time intervals)**을 갖고 있는 것을 시계열 데이터라고 합니다.<br>\n",
    "단 한개의 변수로 이루어진 time series를 **univariate** 이라고 하며, 2개 이상의 변수로 이루어진 time series를 **multivariate**이라고 합니다.\n",
    "\n",
    "\n",
    "### Trend, Cyclical, Seasonal, Irregular \n",
    "\n",
    "Time series는 일반적으로 4개의 요소 (Trend, Cyclical, Seasonal 그리고 Irregular)에 의해 영향을 받습니다.\n",
    "\n",
    "| Name | Description |\n",
    "|:-----|:------------|\n",
    "| **Trend(추세)** |  장기적인 관점에서 봤을때 그래프가 증가하는지, 감소하는지, 또는 정체되어 있는지등의 추세를 Trend라고 합니다.<br>Trend는 따라서 time series안에서 long term movement를 보는 것이 중요합니다. |\n",
    "| **Seasonality(계절성)** | 특정 구간동안의 (1년, 한달, 일주일..) 변동성(fluctuations)를 나타냅니다. <br>예를 들어서 아이스크림 판매량은 여름에 늘어나고, 외투는 겨운에 판매량이 늘어날 것입니다. 또는 피트니스센터의 고객은 매년 결심을 하는 1월 초에 가장많은 사람들이 나올것입니다. 하지만 매월초가 될수도 있고, 매주초가 될 수도 있습니다. 따라서 피트니스센터는 년, 월, 주단위 seasonality를 갖고 있다고 할수 있습니다. |\n",
    "| **Cycle(주기)** | Seasonality는 특정 기간에 정확하게 나타나는 변동성을 갖고 있는 반면, Cycle의 경우 특정 시간에 구애 받지 않습니다. 하지만 동일하게 특정 패턴을 갖고 있습니다. 보통 2~3년처럼 장기간에 걸친 패턴을 갖고 있을수 있습니다. 예를 들어서 business cycle의 경우에는 호황 -> 불황 -> 침체 -> 회복 의 cycle을 갖고 있습니다. | \n",
    "| **Irregularity(불규칙성)** | 또는 random variations이라고 불리며 예상치 못한 영향에 의해서 나타납니다. 예를 들어서 전쟁, 지진, 홍수, 혁명등등이 될 수 있습니다. |\n",
    "\n"
   ]
  },
  {
   "cell_type": "markdown",
   "metadata": {},
   "source": [
    "### Stationary Time Series\n",
    "\n",
    "다음과 같은 조건을 갖으면 Stationary Time Series라고 할 수 있습니다. \n",
    "\n",
    "**모든 $ t $에 관하여 일정한 평균**<br>\n",
    "$ E(x_t) = \\mu $\n",
    "\n",
    "**모든 $ t $에 관하여 일정한 분산**<br>\n",
    "$ E[(x_t - \\mu)^2] = Var(x_t) = \\sigma^2 = \\gamma(0)  $\n",
    "\n",
    "**covariance는 t가 아닌 s에 의존**<br>\n",
    "$ cov(y_t, t_{t+s}) = cov(y_t, y_{t-s}) = \\gamma_s $\n",
    "\n",
    "즉 평균과 분산이 각각 상수를 갖고 있으며, 시간이 지나도 평균과 분산이 변하지 않는다는 뜻입니다. <br>"
   ]
  }
 ],
 "metadata": {
  "kernelspec": {
   "display_name": "Python 3",
   "language": "python",
   "name": "python3"
  },
  "language_info": {
   "codemirror_mode": {
    "name": "ipython",
    "version": 3
   },
   "file_extension": ".py",
   "mimetype": "text/x-python",
   "name": "python",
   "nbconvert_exporter": "python",
   "pygments_lexer": "ipython3",
   "version": "3.6.1"
  }
 },
 "nbformat": 4,
 "nbformat_minor": 2
}
