{
 "cells": [
  {
   "cell_type": "markdown",
   "metadata": {},
   "source": [
    "# Moving Average Model\n",
    "\n",
    "* [PennState STAT 510 - Moving Average Models(MA Models)](https://onlinecourses.science.psu.edu/stat510/node/48)\n",
    "\n",
    "* [Numpy Cookbook 참고](https://books.google.co.kr/books?id=zWHCCAAAQBAJ&pg=PA222&lpg=PA222&dq=numpy+%22moving+average+model%22&source=bl&ots=VWJa0wmEaP&sig=l_pgyToRagDVGnHA_UUo5DO0Ofg&hl=en&sa=X&ved=0ahUKEwig--Ppw4_VAhWIUrwKHWShDQoQ6AEIOTAE#v=onepage&q=numpy%20%22moving%20average%20model%22&f=false)\n",
    "\n",
    "Moving-average Model MA(q)는 AR(p)와 매우 유사하며 마찬가지로 univariate time series를 모델링 하는데 사용되는 방법중의 하나입니다. <br>\n",
    "두 모델의 차이점은 MA(q) 모델의 경우 과거의 white noise error를 사용합니다. <br>\n",
    "<span style=\"color:red\">즉 AR(p)의 경우 과거 p값 만큼의 과거의 lagged variables사용해서 예측을 하는 반면, <br>\n",
    "MA(q) 모델은 과거의 예측 에러(forecast errors)에서 나온 값을 사용해서 예측을 합니다.</span>\n",
    "\n",
    "AR Model과 함께 ARMA 그리고 ARIMA 모델의 중요 컴포넌트가 됩니다.<br> \n",
    "\n",
    "> Moving Average Model은 Moving Average와 전혀 다릅니다.\n",
    "\n",
    "## Definition\n",
    "\n",
    "MA(q) 모델은 noise에 관하여 $ X_t $에 대해 다음과 같이 정의를 하고 있습니다.\n",
    "\n",
    "$$ X_t = c + \\epsilon_t + \\beta_1 \\epsilon_{t-1} + ... + \\beta_q \\epsilon_{t-q} $$\n",
    "\n",
    "$ \\epsilon $ 기호는 error (white noise)로 읽으면 됩니다. (epsilon이 아니라..) <br>\n",
    "noise 의 (weighted)평균으로 구해지지만 전체 시간을 모두 구하는 것이 아니라, average moving $ t $ 그리고 $ q+1 $ times가 사용됩니다.<br>\n",
    "time lags를 사용하여 다음과 같이 정의 할 수 있습니다.\n",
    "\n",
    "$$ X_t = c+ \\left(1 + \\sum^q_{k=1} \\beta_k L^k \\right) \\epsilon_t $$"
   ]
  },
  {
   "cell_type": "markdown",
   "metadata": {},
   "source": [
    "## Configuration"
   ]
  },
  {
   "cell_type": "code",
   "execution_count": 1,
   "metadata": {
    "collapsed": true
   },
   "outputs": [],
   "source": [
    "LAG = 12"
   ]
  },
  {
   "cell_type": "markdown",
   "metadata": {},
   "source": [
    "## Import"
   ]
  },
  {
   "cell_type": "code",
   "execution_count": 2,
   "metadata": {},
   "outputs": [
    {
     "name": "stdout",
     "output_type": "stream",
     "text": [
      "Populating the interactive namespace from numpy and matplotlib\n"
     ]
    },
    {
     "name": "stderr",
     "output_type": "stream",
     "text": [
      "/usr/local/lib/python3.6/site-packages/statsmodels/compat/pandas.py:56: FutureWarning: The pandas.core.datetools module is deprecated and will be removed in a future version. Please use the pandas.tseries module instead.\n",
      "  from pandas.core import datetools\n"
     ]
    }
   ],
   "source": [
    "%pylab inline\n",
    "import math\n",
    "import pandas as pd\n",
    "import statsmodels.api as sm\n",
    "\n",
    "from sklearn.metrics import mean_squared_error\n",
    "from sklearn.metrics import r2_score\n",
    "\n",
    "from data import get_data\n",
    "from tool import show_result"
   ]
  },
  {
   "cell_type": "markdown",
   "metadata": {},
   "source": [
    "## Data"
   ]
  },
  {
   "cell_type": "code",
   "execution_count": 3,
   "metadata": {},
   "outputs": [
    {
     "name": "stdout",
     "output_type": "stream",
     "text": [
      "            passenger\n",
      "1949-01-01      112.0\n",
      "1949-02-01      118.0\n",
      "1949-03-01      132.0\n",
      "1949-04-01      129.0\n",
      "1949-05-01      121.0\n"
     ]
    },
    {
     "data": {
      "text/plain": [
       "<matplotlib.text.Text at 0x7f3cacad54e0>"
      ]
     },
     "execution_count": 3,
     "metadata": {},
     "output_type": "execute_result"
    },
    {
     "data": {
      "image/png": "[encoded data removed]",
      "text/plain": [
       "<matplotlib.figure.Figure at 0x7f3caeb08f98>"
      ]
     },
     "metadata": {},
     "output_type": "display_data"
    }
   ],
   "source": [
    "filename = 'dataset/international-airline-passengers.csv'\n",
    "dataframe, train, test, ts_train, ts_test = get_data(filename, LAG)\n",
    "\n",
    "print(dataframe.head())\n",
    "plot(np.arange(len(train)), train, label='train')\n",
    "plot(np.arange(len(train), len(train)+len(test)), test, label='test')\n",
    "legend()\n",
    "title('train and test dataset')\n"
   ]
  },
  {
   "cell_type": "code",
   "execution_count": 4,
   "metadata": {},
   "outputs": [
    {
     "data": {
      "text/plain": [
       "array([        nan,  0.01158301,  0.02702703, -0.00579151, -0.01544402,\n",
       "        0.02702703,  0.02509653,  0.        , -0.02316602, -0.03281853,\n",
       "       -0.02895753,  0.02702703, -0.00579151,  0.02123552,  0.02895753,\n",
       "       -0.01158301, -0.01930502,  0.04633205,  0.04054054,  0.        ,\n",
       "       -0.02316602, -0.04826255, -0.03667954,  0.05019305,  0.00965251,\n",
       "        0.00965251,  0.05405405, -0.02895753,  0.01737452,  0.01158301,\n",
       "        0.04054054,  0.        , -0.02895753, -0.04247104, -0.03088803,\n",
       "        0.03861004,  0.00965251,  0.01737452,  0.02509653, -0.02316602,\n",
       "        0.003861  ,  0.06756757,  0.02316602,  0.02316602, -0.06370656,\n",
       "       -0.03474903, -0.03667954,  0.04247104,  0.003861  ,  0.        ,\n",
       "        0.07722008, -0.0019305 , -0.01158301,  0.02702703,  0.04054054,\n",
       "        0.01544402, -0.06756757, -0.05019305, -0.05984556,  0.04054054,\n",
       "        0.00579151, -0.03088803,  0.09073359, -0.01544402,  0.01351351,\n",
       "        0.05791506,  0.07335907, -0.01737452, -0.06563707, -0.05791506,\n",
       "       -0.05019305,  0.05019305,  0.02509653, -0.01737452,  0.06563707,\n",
       "        0.003861  ,  0.0019305 ,  0.08687259,  0.09459459, -0.03281853,\n",
       "       -0.06756757, -0.07335907, -0.07142857,  0.07915058,  0.01158301,\n",
       "       -0.01351351,  0.07722008, -0.00772201,  0.00965251,  0.10810811,\n",
       "        0.07528958, -0.01544402, -0.0965251 , -0.09459459])"
      ]
     },
     "execution_count": 4,
     "metadata": {},
     "output_type": "execute_result"
    }
   ],
   "source": [
    "d = pd.Series(train.reshape(-1))\n",
    "diff = d - d.shift(1)\n",
    "\n",
    "np.array(diff.data.tolist())"
   ]
  },
  {
   "cell_type": "code",
   "execution_count": 5,
   "metadata": {},
   "outputs": [
    {
     "name": "stdout",
     "output_type": "stream",
     "text": [
      "(93, 1)\n"
     ]
    },
    {
     "data": {
      "text/plain": [
       "[<matplotlib.lines.Line2D at 0x7f3cac93f940>]"
      ]
     },
     "execution_count": 5,
     "metadata": {},
     "output_type": "execute_result"
    },
    {
     "data": {
      "image/png": "[encoded data removed]",
      "text/plain": [
       "<matplotlib.figure.Figure at 0x7f3caeb76e48>"
      ]
     },
     "metadata": {},
     "output_type": "display_data"
    }
   ],
   "source": [
    "x = np.array([1, 3, 5, 7, 9, 11, 13, 17])\n",
    "train_diff = np.diff(train, n=1, axis=0)\n",
    "print(train_diff.shape)\n",
    "plot(train_diff)"
   ]
  },
  {
   "cell_type": "code",
   "execution_count": 6,
   "metadata": {},
   "outputs": [
    {
     "data": {
      "text/plain": [
       "statsmodels.tsa.arima_model.ARMA"
      ]
     },
     "execution_count": 6,
     "metadata": {},
     "output_type": "execute_result"
    }
   ],
   "source": [
    "sm.tsa.ARMA"
   ]
  },
  {
   "cell_type": "code",
   "execution_count": 7,
   "metadata": {},
   "outputs": [
    {
     "name": "stdout",
     "output_type": "stream",
     "text": [
      "[ 0.58791367  0.41727615  0.56300872  0.2326607   0.10319177]\n",
      "[ 0.9579881]\n"
     ]
    }
   ],
   "source": [
    "from scipy.optimize import leastsq\n",
    "from statsmodels.regression.linear_model import GLS\n",
    "\n",
    "class MA(object):\n",
    "    def __init__(self, lag=5):\n",
    "        self.lag = lag\n",
    "        self.w = np.random.rand(lag)\n",
    "        print(self.w)\n",
    "        \n",
    "    def fit(self, x):\n",
    "        mean = x.mean()\n",
    "        a, b = leastsq(self.error, self.w, args=(x-mean,) )\n",
    "        \n",
    "        gls = GLS(x[1:], x[:-1]).fit()\n",
    "        print(gls.params)\n",
    "        return gls\n",
    "        \n",
    "        \n",
    "    def error(self, w, x):\n",
    "        return w * x[:self.lag].reshape(-1)\n",
    "        \n",
    "ma = MA()\n",
    "gls = ma.fit(train)\n",
    "\n"
   ]
  },
  {
   "cell_type": "code",
   "execution_count": 8,
   "metadata": {},
   "outputs": [
    {
     "ename": "NameError",
     "evalue": "name 'ARMA' is not defined",
     "output_type": "error",
     "traceback": [
      "\u001b[0;31m---------------------------------------------------------------------------\u001b[0m",
      "\u001b[0;31mNameError\u001b[0m                                 Traceback (most recent call last)",
      "\u001b[0;32m<ipython-input-8-8b4681a0a98f>\u001b[0m in \u001b[0;36m<module>\u001b[0;34m()\u001b[0m\n\u001b[0;32m----> 1\u001b[0;31m \u001b[0mmodel_arma\u001b[0m \u001b[0;34m=\u001b[0m \u001b[0mARMA\u001b[0m\u001b[0;34m(\u001b[0m\u001b[0mtrain\u001b[0m\u001b[0;34m,\u001b[0m \u001b[0morder\u001b[0m\u001b[0;34m=\u001b[0m\u001b[0;34m(\u001b[0m\u001b[0;36m4\u001b[0m\u001b[0;34m,\u001b[0m \u001b[0;36m2\u001b[0m\u001b[0;34m,\u001b[0m \u001b[0;36m1\u001b[0m\u001b[0;34m)\u001b[0m\u001b[0;34m)\u001b[0m\u001b[0;34m\u001b[0m\u001b[0m\n\u001b[0m\u001b[1;32m      2\u001b[0m \u001b[0mmodel_arma\u001b[0m \u001b[0;34m=\u001b[0m \u001b[0mmodel_arma\u001b[0m\u001b[0;34m.\u001b[0m\u001b[0mfit\u001b[0m\u001b[0;34m(\u001b[0m\u001b[0mmax_lag\u001b[0m\u001b[0;34m=\u001b[0m\u001b[0;36m30\u001b[0m\u001b[0;34m)\u001b[0m\u001b[0;34m\u001b[0m\u001b[0m\n\u001b[1;32m      3\u001b[0m \u001b[0mprint\u001b[0m\u001b[0;34m(\u001b[0m\u001b[0mmodel_arma\u001b[0m\u001b[0;34m.\u001b[0m\u001b[0msummary\u001b[0m\u001b[0;34m(\u001b[0m\u001b[0;34m)\u001b[0m\u001b[0;34m)\u001b[0m\u001b[0;34m\u001b[0m\u001b[0m\n\u001b[1;32m      4\u001b[0m \u001b[0;34m\u001b[0m\u001b[0m\n\u001b[1;32m      5\u001b[0m \u001b[0mpred_train\u001b[0m \u001b[0;34m=\u001b[0m \u001b[0mmodel_arma\u001b[0m\u001b[0;34m.\u001b[0m\u001b[0mpredict\u001b[0m\u001b[0;34m(\u001b[0m\u001b[0;36m0\u001b[0m\u001b[0;34m)\u001b[0m\u001b[0;34m\u001b[0m\u001b[0m\n",
      "\u001b[0;31mNameError\u001b[0m: name 'ARMA' is not defined"
     ]
    }
   ],
   "source": [
    "model_arma = ARMA(train, order=(4, 2, 1))\n",
    "model_arma = model_arma.fit(max_lag=30)\n",
    "print(model_arma.summary())\n",
    "\n",
    "pred_train = model_arma.predict(0)\n",
    "pred_test = model_arma.predict(start=len(train), end=len(train) + len(test)-1)\n",
    "\n",
    "x_train = np.arange(len(pred_train))\n",
    "x_test = np.arange(len(pred_train), len(pred_train) + len(pred_test))\n",
    "\n",
    "plot(x_train, train, linestyle=\"--\", label='train_true', color=\"#555555\")\n",
    "plot(x_train, pred_train, label='train_pred', color='blue')\n",
    "plot(x_test, test, label='test_true',  color='#555555')\n",
    "plot(x_test, pred_test, label='pred_test', color='red')\n",
    "legend()\n",
    "grid()\n",
    "\n",
    "print('Lag:', model_arma.k_ar)\n",
    "print('Params:', model_arma.params.shape)\n",
    "print('Train R^2:', r2_score(pred_train, train))\n",
    "print('Train MSE:', mean_squared_error(pred_train, train))\n",
    "print('Test  R^2:', r2_score(pred_test, test))\n",
    "print('Test  MSE:', mean_squared_error(pred_test, test))"
   ]
  }
 ],
 "metadata": {
  "kernelspec": {
   "display_name": "Python 3",
   "language": "python",
   "name": "python3"
  },
  "language_info": {
   "codemirror_mode": {
    "name": "ipython",
    "version": 3
   },
   "file_extension": ".py",
   "mimetype": "text/x-python",
   "name": "python",
   "nbconvert_exporter": "python",
   "pygments_lexer": "ipython3",
   "version": "3.6.1"
  }
 },
 "nbformat": 4,
 "nbformat_minor": 2
}
