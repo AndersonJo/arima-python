{
 "cells": [
  {
   "cell_type": "markdown",
   "metadata": {},
   "source": [
    "# Time Series \n",
    "\n",
    "\n",
    "### Basic\n",
    "\n",
    "시간에 따른 일련의 데이터를 Time series data라고 합니다. <br>\n",
    "단 한개의 변수로 이루어진 time series를 **univariate** 이라고 하며, 2개 이상의 변수로 이루어진 time series를 **multivariate**이라고 합니다.\n",
    "\n",
    "\n",
    "### Trend, Cyclical, Seasonal, Irregular \n",
    "\n",
    "Time series는 일반적으로 4개의 요소 (Trend, Cyclical, Seasonal 그리고 Irregular)에 의해 영향을 받습니다.\n",
    "\n",
    "| Name | Description |\n",
    "|:-----|:------------|\n",
    "| **Trend(추세)** |  장기적인 관점에서 봤을때 그래프가 증가하는지, 감소하는지, 또는 정체되어 있는지등의 추세를 Trend라고 합니다.<br>Trend는 따라서 time series안에서 long term movement를 보는 것이 중요합니다. |\n",
    "| **Seasonality(계절성)** | 특정 구간동안의 (1년, 한달, 일주일..) 변동성(fluctuations)를 나타냅니다. <br>예를 들어서 아이스크림 판매량은 여름에 늘어나고, 외투는 겨운에 판매량이 늘어날 것입니다. 또는 피트니스센터의 고객은 매년 결심을 하는 1월 초에 가장많은 사람들이 나올것입니다. 하지만 매월초가 될수도 있고, 매주초가 될 수도 있습니다. 따라서 피트니스센터는 년, 월, 주단위 seasonality를 갖고 있다고 할수 있습니다. |\n",
    "| **Cycle(주기)** | Seasonality는 특정 기간에 정확하게 나타나는 변동성을 갖고 있는 반면, Cycle의 경우 특정 시간에 구애 받지 않습니다. 하지만 동일하게 특정 패턴을 갖고 있습니다. 보통 2~3년처럼 장기간에 걸친 패턴을 갖고 있을수 있습니다. 예를 들어서 business cycle의 경우에는 호황 -> 불황 -> 침체 -> 회복 의 cycle을 갖고 있습니다. | \n",
    "| **Irregularity(불규칙성)** | 또는 random variations이라고 불리며 예상치 못한 영향에 의해서 나타납니다. 예를 들어서 전쟁, 지진, 홍수, 혁명등등이 될 수 있습니다. |\n",
    "\n"
   ]
  },
  {
   "cell_type": "markdown",
   "metadata": {},
   "source": [
    "# AR (Autoregressive) Model\n",
    "\n",
    "AR(p) (AutoRegressive of order p)는 간단하게 과거의 패턴이 지속된다면 <br>\n",
    "시계열 데이터 관측치 $ y_t $ 는 과거 관측치 $ y_{t-1} $, $ y_{t-2} $, $ y_{t-3} $, ... 에 의해 예측될 수 있다고 봅니다. <br>\n",
    "오직 과거의 데이터만 사용해서 예측 모형을 만들게 되며, 이름도 autoregressive 입니다. (그리스어로 auto 라는 뜻은 \"self\"를 가르킵니다.)<br>\n",
    "\n",
    "\n",
    "\n",
    "$$ X_t = \\alpha_1 X_{t-1} + ... + \\alpha_p X_{t-p} + \\epsilon_t $$ \n",
    "\n",
    "* **order:** $ p $\n",
    "* **parameters (coefficients):** $ \\alpha_1 $, $ \\alpha_2 $, ..., $ \\alpha_p $\n",
    "* **error term (white noise):** $ \\epsilon_t $"
   ]
  },
  {
   "cell_type": "markdown",
   "metadata": {},
   "source": [
    "# Auto-Regressive Integrated Moving Average (ARIMA)\n",
    "\n",
    "ARIMA를 적용하기 위해서는 time series는 linear 하며 통계적 분포(normal distribution같은 statistical distribution)을 따른다고 가정합니다. <br>\n",
    "다음의 모델들의 특징을 모두 갖고 있습니다.\n",
    "\n",
    "* Autoregressive (AR)\n",
    "* Moving Average (MA)"
   ]
  },
  {
   "cell_type": "markdown",
   "metadata": {},
   "source": [
    "# References \n",
    "\n",
    "* http://users.dma.unipi.it/~flandoli/AUTCap4.pdf\n",
    "* https://gejza.nipax.cz/_media/stochasticke_procesy:1302.6613.pdf\n",
    "* https://onlinecourses.science.psu.edu/stat510/"
   ]
  }
 ],
 "metadata": {
  "kernelspec": {
   "display_name": "Python 3",
   "language": "python",
   "name": "python3"
  },
  "language_info": {
   "codemirror_mode": {
    "name": "ipython",
    "version": 3
   },
   "file_extension": ".py",
   "mimetype": "text/x-python",
   "name": "python",
   "nbconvert_exporter": "python",
   "pygments_lexer": "ipython3",
   "version": "3.6.1"
  }
 },
 "nbformat": 4,
 "nbformat_minor": 2
}
